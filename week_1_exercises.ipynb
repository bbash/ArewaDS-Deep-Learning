{
  "nbformat": 4,
  "nbformat_minor": 0,
  "metadata": {
    "colab": {
      "provenance": [],
      "gpuType": "T4",
      "authorship_tag": "ABX9TyMxDn/+YQ0SFE61Vvl9ynKo",
      "include_colab_link": true
    },
    "kernelspec": {
      "name": "python3",
      "display_name": "Python 3"
    },
    "language_info": {
      "name": "python"
    },
    "accelerator": "GPU"
  },
  "cells": [
    {
      "cell_type": "markdown",
      "metadata": {
        "id": "view-in-github",
        "colab_type": "text"
      },
      "source": [
        "<a href=\"https://colab.research.google.com/github/bbash/ArewaDS-Deep-Learning/blob/main/Exercise_00.ipynb\" target=\"_parent\"><img src=\"https://colab.research.google.com/assets/colab-badge.svg\" alt=\"Open In Colab\"/></a>"
      ]
    },
    {
      "cell_type": "code",
      "execution_count": 3,
      "metadata": {
        "colab": {
          "base_uri": "https://localhost:8080/"
        },
        "id": "bndgP56e_Ogr",
        "outputId": "18304bb3-4955-4f52-d71e-a3049b2a9a2c"
      },
      "outputs": [
        {
          "output_type": "stream",
          "name": "stdout",
          "text": [
            "2.1.0+cu121\n"
          ]
        }
      ],
      "source": [
        "# Question 1: Docmentation reading on torch.Tensor and torch.cuda\n",
        "import torch\n",
        "print(torch.__version__)"
      ]
    },
    {
      "cell_type": "code",
      "source": [
        "# Question 2: Create a random tensor with shape (7, 7)\n",
        "random_tensor = torch.rand(size=(7, 7))\n",
        "print(random_tensor, ' ', random_tensor.shape)"
      ],
      "metadata": {
        "colab": {
          "base_uri": "https://localhost:8080/"
        },
        "id": "Ltd1YPKtCP32",
        "outputId": "6135e6b7-8c0e-49f5-c4bb-b09fe7e43f30"
      },
      "execution_count": 31,
      "outputs": [
        {
          "output_type": "stream",
          "name": "stdout",
          "text": [
            "tensor([[0.8549, 0.5509, 0.2868, 0.2063, 0.4451, 0.3593, 0.7204],\n",
            "        [0.0731, 0.9699, 0.1078, 0.8829, 0.4132, 0.7572, 0.6948],\n",
            "        [0.5209, 0.5932, 0.8797, 0.6286, 0.7653, 0.1132, 0.8559],\n",
            "        [0.6721, 0.6267, 0.5691, 0.7437, 0.9592, 0.3887, 0.2214],\n",
            "        [0.3742, 0.1953, 0.7405, 0.2529, 0.2332, 0.9314, 0.9575],\n",
            "        [0.5575, 0.4134, 0.4355, 0.7369, 0.0331, 0.0914, 0.8994],\n",
            "        [0.9936, 0.4703, 0.1049, 0.5137, 0.2674, 0.4990, 0.7447]])   torch.Size([7, 7])\n"
          ]
        }
      ]
    },
    {
      "cell_type": "code",
      "source": [
        "# Question 3: Perform a matrix multiplication on the tnesor from 2 with another random tensor\n",
        "# with shape (1, 7)\n",
        "another_random_tensor = torch.rand(size=(1, 7))\n",
        "result = random_tensor @ another_random_tensor.T\n",
        "print(result, ' ', result.shape)"
      ],
      "metadata": {
        "colab": {
          "base_uri": "https://localhost:8080/"
        },
        "id": "Ki6DzzGTCwIS",
        "outputId": "f984e4de-84b5-40d8-a6bb-2e556c7be30e"
      },
      "execution_count": 32,
      "outputs": [
        {
          "output_type": "stream",
          "name": "stdout",
          "text": [
            "tensor([[1.6914],\n",
            "        [1.7581],\n",
            "        [2.0906],\n",
            "        [1.8975],\n",
            "        [1.7585],\n",
            "        [1.7961],\n",
            "        [1.8900]])   torch.Size([7, 1])\n"
          ]
        }
      ]
    },
    {
      "cell_type": "code",
      "source": [
        "# Question 4: Set the random seed to 0 and do exercises 2 & 3 over again.\n",
        "torch.manual_seed(0)\n",
        "\n",
        "random_tensor = torch.rand(size=(7, 7))\n",
        "another_random_tensor = torch.rand(size=(1, 7))\n",
        "\n",
        "result = random_tensor @ another_random_tensor.T\n",
        "print(result, ' ', result.shape)"
      ],
      "metadata": {
        "colab": {
          "base_uri": "https://localhost:8080/"
        },
        "id": "L1sB7k0lDbyh",
        "outputId": "9011af05-7e3e-4528-aa04-d79f433cda32"
      },
      "execution_count": 35,
      "outputs": [
        {
          "output_type": "stream",
          "name": "stdout",
          "text": [
            "tensor([[1.8542],\n",
            "        [1.9611],\n",
            "        [2.2884],\n",
            "        [3.0481],\n",
            "        [1.7067],\n",
            "        [2.5290],\n",
            "        [1.7989]])   torch.Size([7, 1])\n"
          ]
        }
      ]
    },
    {
      "cell_type": "code",
      "source": [
        "# Question 5: Speaking of random seeds, we saw how to set it with\n",
        "# torch.manual_seed() but is there a GPU equivalent?\n",
        "# (hint: you'll need to look into the documentation for torch.cuda\n",
        "# for this one). If there is, set the GPU random seed to 1234.\n",
        "torch.cuda.manual_seed(1234)"
      ],
      "metadata": {
        "id": "86iq0bWCD2u2"
      },
      "execution_count": 7,
      "outputs": []
    },
    {
      "cell_type": "code",
      "source": [
        "# Question 6: Create two random tensors of shape (2, 3) and send them both to the\n",
        "# GPU (you'll need access to a GPU for this). Set torch.manual_seed(1234)\n",
        "# when creating the tensors (this doesn't have to be the GPU random seed).\n",
        "\n",
        "device = 'cuda' if torch.cuda.is_available() else 'cpu'\n",
        "\n",
        "torch.manual_seed(1234)\n",
        "\n",
        "gpu_random_tensor = torch.rand(size=(2,3)).to(device)\n",
        "print(gpu_random_tensor)\n",
        "\n",
        "gpu_random_tesnor_2 = torch.rand(size=(2,3)).to(device)\n",
        "print(gpu_random_tesnor_2)\n"
      ],
      "metadata": {
        "colab": {
          "base_uri": "https://localhost:8080/"
        },
        "id": "R5Q9AbroEza0",
        "outputId": "ec207e92-fbaa-423e-8288-642d1e212373"
      },
      "execution_count": 37,
      "outputs": [
        {
          "output_type": "stream",
          "name": "stdout",
          "text": [
            "tensor([[0.0290, 0.4019, 0.2598],\n",
            "        [0.3666, 0.0583, 0.7006]], device='cuda:0')\n",
            "tensor([[0.0518, 0.4681, 0.6738],\n",
            "        [0.3315, 0.7837, 0.5631]], device='cuda:0')\n"
          ]
        }
      ]
    },
    {
      "cell_type": "code",
      "source": [
        "# Question 7: Perform a matrix multiplication on the tensors you created\n",
        "# in 6 (again, you may have to adjust the shapes of one of the tensors).\n",
        "\n",
        "result = gpu_random_tensor @ gpu_random_tesnor_2.T\n",
        "print(result)"
      ],
      "metadata": {
        "colab": {
          "base_uri": "https://localhost:8080/"
        },
        "id": "9DRat_puFNZY",
        "outputId": "51181bc9-967b-40a3-adf6-ff3163d69d70"
      },
      "execution_count": 38,
      "outputs": [
        {
          "output_type": "stream",
          "name": "stdout",
          "text": [
            "tensor([[0.3647, 0.4709],\n",
            "        [0.5184, 0.5617]], device='cuda:0')\n"
          ]
        }
      ]
    },
    {
      "cell_type": "code",
      "source": [
        "# Question 8: Find the maximum and minimum values of the output of 7.\n",
        "print(result.max())\n",
        "print(result.min())"
      ],
      "metadata": {
        "colab": {
          "base_uri": "https://localhost:8080/"
        },
        "id": "U7LkHUDaLTpg",
        "outputId": "32952285-d7f5-438a-8276-f028375f4ce5"
      },
      "execution_count": 39,
      "outputs": [
        {
          "output_type": "stream",
          "name": "stdout",
          "text": [
            "tensor(0.5617, device='cuda:0')\n",
            "tensor(0.3647, device='cuda:0')\n"
          ]
        }
      ]
    },
    {
      "cell_type": "code",
      "source": [
        "# Question 9: Find the maximum and minimum index values of the output of 7.\n",
        "print(torch.argmax(result))\n",
        "print(torch.argmin(result))"
      ],
      "metadata": {
        "colab": {
          "base_uri": "https://localhost:8080/"
        },
        "id": "y1mFew0eLiUP",
        "outputId": "1b2a516e-a063-4b45-d71a-87615f05eb1f"
      },
      "execution_count": 41,
      "outputs": [
        {
          "output_type": "stream",
          "name": "stdout",
          "text": [
            "tensor(3, device='cuda:0')\n",
            "tensor(0, device='cuda:0')\n"
          ]
        }
      ]
    },
    {
      "cell_type": "code",
      "source": [
        "# Question 10: Make a random tensor with shape (1, 1, 1, 10) and\n",
        "# then create a new tensor with all the 1 dimensions removed to be\n",
        "# left with a tensor of shape (10). Set the seed to 7 when you create\n",
        "# it and print out the first tensor and it's shape as well as the second\n",
        "#  tensor and it's shape.\n",
        "\n",
        "torch.manual_seed(7)\n",
        "random_tensor  = torch.rand(size=(1,1,1,1,10))\n",
        "print('First ', random_tensor)\n",
        "print('First ', random_tensor.shape)\n",
        "\n",
        "new_tensor = random_tensor.squeeze()\n",
        "print('New Tensor ', new_tensor)\n",
        "print('New Tensor ', new_tensor.shape)\n"
      ],
      "metadata": {
        "colab": {
          "base_uri": "https://localhost:8080/"
        },
        "id": "VK9u5SOJL2KM",
        "outputId": "fba96370-8e40-4720-faed-20d6d1202151"
      },
      "execution_count": 42,
      "outputs": [
        {
          "output_type": "stream",
          "name": "stdout",
          "text": [
            "First  tensor([[[[[0.5349, 0.1988, 0.6592, 0.6569, 0.2328, 0.4251, 0.2071, 0.6297,\n",
            "            0.3653, 0.8513]]]]])\n",
            "First  torch.Size([1, 1, 1, 1, 10])\n",
            "New Tensor  tensor([0.5349, 0.1988, 0.6592, 0.6569, 0.2328, 0.4251, 0.2071, 0.6297, 0.3653,\n",
            "        0.8513])\n",
            "New Tensor  torch.Size([10])\n"
          ]
        }
      ]
    },
    {
      "cell_type": "code",
      "source": [],
      "metadata": {
        "id": "6JQicA1qMs25"
      },
      "execution_count": null,
      "outputs": []
    }
  ]
}
