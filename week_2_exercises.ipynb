{
  "cells": [
    {
      "cell_type": "markdown",
      "metadata": {
        "id": "view-in-github",
        "colab_type": "text"
      },
      "source": [
        "<a href=\"https://colab.research.google.com/github/bbash/ArewaDS-Deep-Learning/blob/main/week_2_exercises.ipynb\" target=\"_parent\"><img src=\"https://colab.research.google.com/assets/colab-badge.svg\" alt=\"Open In Colab\"/></a>"
      ]
    },
    {
      "cell_type": "markdown",
      "metadata": {
        "id": "ZPWSUKU23PiZ"
      },
      "source": [
        "## Arewa DataScience Academy\n",
        "### Deep Learning Cohort 1.0\n",
        "\n",
        "### Name: Bashir Salisu Abubakar\n",
        "\n",
        "### Email: bsalisu2016@gmail.com\n",
        "\n",
        "### Title: Week 2 Solution\n",
        "\n",
        "### **Exercises Solution**"
      ]
    },
    {
      "cell_type": "code",
      "source": [
        "# import libraries\n",
        "import torch\n",
        "from torch import nn\n",
        "import matplotlib.pyplot as plt\n",
        "torch.__version__"
      ],
      "metadata": {
        "colab": {
          "base_uri": "https://localhost:8080/",
          "height": 35
        },
        "id": "dqHwdoGT4m1g",
        "outputId": "5c1c6599-cbd4-4781-c6bc-49ffed193f98"
      },
      "execution_count": 1204,
      "outputs": [
        {
          "output_type": "execute_result",
          "data": {
            "text/plain": [
              "'2.1.0+cu121'"
            ],
            "application/vnd.google.colaboratory.intrinsic+json": {
              "type": "string"
            }
          },
          "metadata": {},
          "execution_count": 1204
        }
      ]
    },
    {
      "cell_type": "code",
      "source": [
        "# set device\n",
        "device = 'cuda' if torch.cuda.is_available() else 'cpu'\n",
        "print(f\"The device is: {device}\")"
      ],
      "metadata": {
        "colab": {
          "base_uri": "https://localhost:8080/"
        },
        "id": "4mioiyxx6YVm",
        "outputId": "5b6b1a6e-90fb-4627-e3ab-3a8efe770cdb"
      },
      "execution_count": 1205,
      "outputs": [
        {
          "output_type": "stream",
          "name": "stdout",
          "text": [
            "The device is: cuda\n"
          ]
        }
      ]
    },
    {
      "cell_type": "markdown",
      "source": [
        "1. Create a straight line dataset using the linear regression formula (weight * X + bias)."
      ],
      "metadata": {
        "id": "AiTXfsAi4_pf"
      }
    },
    {
      "cell_type": "code",
      "execution_count": 1206,
      "metadata": {
        "vscode": {
          "languageId": "plaintext"
        },
        "colab": {
          "base_uri": "https://localhost:8080/"
        },
        "id": "MyCfZkYE3Pi9",
        "outputId": "67a04c81-5169-4f9e-a82c-8c860373cf92"
      },
      "outputs": [
        {
          "output_type": "execute_result",
          "data": {
            "text/plain": [
              "(100, 100, torch.Size([100, 1]), torch.Size([100, 1]))"
            ]
          },
          "metadata": {},
          "execution_count": 1206
        }
      ],
      "source": [
        "# Set weight=0.3 and bias=0.9 there should be at least 100 datapoints total\n",
        "\n",
        "weight = 0.3\n",
        "bias = 0.9\n",
        "\n",
        "start = 0\n",
        "end = 1\n",
        "step = 0.01\n",
        "\n",
        "X = torch.arange(start=start, end=end, step=step).unsqueeze(dim=1)\n",
        "\n",
        "y = weight * X + bias\n",
        "\n",
        "len(X), len(y), X.shape, y.shape"
      ]
    },
    {
      "cell_type": "code",
      "source": [
        "# Split the data into 80% training, 20% testing.\n",
        "train_size = int(0.8 * len(X))\n",
        "\n",
        "X_train, y_train = X[:train_size], y[:train_size]\n",
        "X_test, y_test = X[train_size:],y[train_size:]\n",
        "\n",
        "len(X_train), len(y_train), len(X_test), len(y_test)"
      ],
      "metadata": {
        "colab": {
          "base_uri": "https://localhost:8080/"
        },
        "id": "294d8Pcd6uTZ",
        "outputId": "c375c12d-5ae7-4f28-f473-42513098c557"
      },
      "execution_count": 1207,
      "outputs": [
        {
          "output_type": "execute_result",
          "data": {
            "text/plain": [
              "(80, 80, 20, 20)"
            ]
          },
          "metadata": {},
          "execution_count": 1207
        }
      ]
    },
    {
      "cell_type": "code",
      "source": [
        "### Plot the training and testing data so it becomes visual\n",
        "def plot_visual(train_data = X_train,\n",
        "                train_label = y_train,\n",
        "                test_data = X_test,\n",
        "                test_label = y_test,\n",
        "                prediction = None):\n",
        "\n",
        "    plt.figure(figsize=(10,7))\n",
        "    plt.scatter(train_data, train_label, c ='b', s= 4, label = 'Train_data')\n",
        "    plt.scatter(test_data, test_label,c ='r', s =4, label ='Test_data')\n",
        "\n",
        "    if prediction is not None:\n",
        "               plt.scatter(test_data, prediction, c='g', s =4, label='Prediction')\n",
        "\n",
        "    plt.legend(prop={\"size\": 14});"
      ],
      "metadata": {
        "id": "uftVAhBkFQvC"
      },
      "execution_count": 1208,
      "outputs": []
    },
    {
      "cell_type": "code",
      "source": [
        "plot_visual()"
      ],
      "metadata": {
        "colab": {
          "base_uri": "https://localhost:8080/",
          "height": 599
        },
        "id": "3KKw8P2lHHmr",
        "outputId": "3611b628-cfac-4825-f07e-b5ecd553903d"
      },
      "execution_count": 1209,
      "outputs": [
        {
          "output_type": "display_data",
          "data": {
            "text/plain": [
              "<Figure size 1000x700 with 1 Axes>"
            ],
            "image/png": "[encoded data removed]"
          },
          "metadata": {}
        }
      ]
    },
    {
      "cell_type": "markdown",
      "source": [
        "### 2. Build a PyTorch model by subclassing nn.Module."
      ],
      "metadata": {
        "id": "lsWTi8H28hXB"
      }
    },
    {
      "cell_type": "code",
      "source": [
        "# nside should be a randomly initialized nn.Parameter() with requires_grad=True, one for weights and one for bias.\n",
        "\n",
        "class Model_01(nn.Module):\n",
        "\n",
        "    def __init__(self):\n",
        "        super().__init__()\n",
        "\n",
        "        self.weight = nn.Parameter(\n",
        "            torch.randn(1, dtype=torch.float),\n",
        "            requires_grad=True\n",
        "        )\n",
        "        self.bias = nn.Parameter(\n",
        "            torch.randn(1, dtype=torch.float),\n",
        "            requires_grad=True\n",
        "        )\n",
        "    def forward(self, X):\n",
        "        return self.weight * X + self.bias"
      ],
      "metadata": {
        "id": "GvFGBgio6uF4"
      },
      "execution_count": 1210,
      "outputs": []
    },
    {
      "cell_type": "code",
      "source": [
        "# Once you've constructed the model, make an instance of it and check its state_dict()\n",
        "\n",
        "torch.manual_seed(42)\n",
        "\n",
        "model = Model_01().to(device)\n",
        "\n",
        "model.state_dict()\n"
      ],
      "metadata": {
        "colab": {
          "base_uri": "https://localhost:8080/"
        },
        "id": "oIVXj41P6txu",
        "outputId": "9984ecb4-24f9-4109-a73a-0cdc930f5a39"
      },
      "execution_count": 1211,
      "outputs": [
        {
          "output_type": "execute_result",
          "data": {
            "text/plain": [
              "OrderedDict([('weight', tensor([0.3367], device='cuda:0')),\n",
              "             ('bias', tensor([0.1288], device='cuda:0'))])"
            ]
          },
          "metadata": {},
          "execution_count": 1211
        }
      ]
    },
    {
      "cell_type": "markdown",
      "source": [
        "### 3. Create a loss function and optimizer using nn.L1Loss() and torch.optim.SGD(params, lr) respectively"
      ],
      "metadata": {
        "id": "Kzvfo_j2_pxP"
      }
    },
    {
      "cell_type": "code",
      "source": [
        "# Loss function\n",
        "loss_fn = nn.L1Loss()\n",
        "\n",
        "# Optimizer (lr = 0.01)\n",
        "optimizer = torch.optim.SGD(model.parameters(), lr=0.01)"
      ],
      "metadata": {
        "id": "QuMIHpiX-Iwh"
      },
      "execution_count": 1212,
      "outputs": []
    },
    {
      "cell_type": "code",
      "source": [
        "torch.manual_seed(42)\n",
        "\n",
        "# Write a training loop to perform the appropriate training steps for 300 epochs.\n",
        "Epochs = 300\n",
        "\n",
        "# put train and test data into device\n",
        "X_train, y_train = X_train.to(device), y_train.to(device)\n",
        "X_test, y_test = X_test.to(device), y_test.to(device)\n",
        "\n",
        "for epoch in range(Epochs):\n",
        "\n",
        "    model.train()\n",
        "\n",
        "    # fit data\n",
        "    yhat = model(X_train)\n",
        "\n",
        "    # calculate loss\n",
        "    loss = loss_fn(yhat, y_train)\n",
        "\n",
        "    #grad_zero\n",
        "    optimizer.zero_grad()\n",
        "\n",
        "    # backward prop\n",
        "    loss.backward()\n",
        "\n",
        "    # opimizer\n",
        "    optimizer.step()\n",
        "\n",
        "    model.eval()\n",
        "\n",
        "    with torch.inference_mode():\n",
        "\n",
        "        test_yhat = model(X_test)\n",
        "\n",
        "        test_loss = loss_fn(test_yhat, y_test)\n",
        "\n",
        "        if epoch % 20  == 0:\n",
        "            print(f\"At Epoch: {epoch}, Training loss: {loss:.3f} and Test loss {test_loss:.3f}\")\n"
      ],
      "metadata": {
        "colab": {
          "base_uri": "https://localhost:8080/"
        },
        "id": "SsBTPFOe-Ig9",
        "outputId": "499fca40-4f7e-4c23-9f89-6d2fa663bc6c"
      },
      "execution_count": 1213,
      "outputs": [
        {
          "output_type": "stream",
          "name": "stdout",
          "text": [
            "At Epoch: 0, Training loss: 0.757 and Test loss 0.725\n",
            "At Epoch: 20, Training loss: 0.525 and Test loss 0.454\n",
            "At Epoch: 40, Training loss: 0.294 and Test loss 0.183\n",
            "At Epoch: 60, Training loss: 0.077 and Test loss 0.073\n",
            "At Epoch: 80, Training loss: 0.053 and Test loss 0.116\n",
            "At Epoch: 100, Training loss: 0.046 and Test loss 0.105\n",
            "At Epoch: 120, Training loss: 0.039 and Test loss 0.089\n",
            "At Epoch: 140, Training loss: 0.032 and Test loss 0.074\n",
            "At Epoch: 160, Training loss: 0.025 and Test loss 0.058\n",
            "At Epoch: 180, Training loss: 0.018 and Test loss 0.042\n",
            "At Epoch: 200, Training loss: 0.011 and Test loss 0.026\n",
            "At Epoch: 220, Training loss: 0.004 and Test loss 0.009\n",
            "At Epoch: 240, Training loss: 0.004 and Test loss 0.006\n",
            "At Epoch: 260, Training loss: 0.004 and Test loss 0.006\n",
            "At Epoch: 280, Training loss: 0.004 and Test loss 0.006\n"
          ]
        }
      ]
    },
    {
      "cell_type": "code",
      "source": [
        "model.state_dict()"
      ],
      "metadata": {
        "colab": {
          "base_uri": "https://localhost:8080/"
        },
        "id": "f_qx_Ea_JcZt",
        "outputId": "e65f434d-87a5-4e72-9dd8-851092a7f201"
      },
      "execution_count": 1214,
      "outputs": [
        {
          "output_type": "execute_result",
          "data": {
            "text/plain": [
              "OrderedDict([('weight', tensor([0.3067], device='cuda:0')),\n",
              "             ('bias', tensor([0.9011], device='cuda:0'))])"
            ]
          },
          "metadata": {},
          "execution_count": 1214
        }
      ]
    },
    {
      "cell_type": "markdown",
      "source": [
        "### 4. Make predictions with the trained model on the test data."
      ],
      "metadata": {
        "id": "cy-9DEM4Dr6O"
      }
    },
    {
      "cell_type": "code",
      "source": [
        "model.eval()\n",
        "\n",
        "with torch.inference_mode():\n",
        "    yhat = model(X_test)"
      ],
      "metadata": {
        "id": "oNd89_VG-IUN"
      },
      "execution_count": 1215,
      "outputs": []
    },
    {
      "cell_type": "code",
      "source": [
        "plot_visual(prediction=yhat.cpu())"
      ],
      "metadata": {
        "colab": {
          "base_uri": "https://localhost:8080/",
          "height": 599
        },
        "id": "HwPTlsgH-IN3",
        "outputId": "d123c944-996a-4e79-cd19-0be970ba8112"
      },
      "execution_count": 1216,
      "outputs": [
        {
          "output_type": "display_data",
          "data": {
            "text/plain": [
              "<Figure size 1000x700 with 1 Axes>"
            ],
            "image/png": "[encoded data removed]"
          },
          "metadata": {}
        }
      ]
    },
    {
      "cell_type": "markdown",
      "source": [
        "### Save your trained model's state_dict() to file."
      ],
      "metadata": {
        "id": "RkOGmKQOJthg"
      }
    },
    {
      "cell_type": "code",
      "source": [
        "from pathlib import Path\n",
        "\n",
        "# 1. Create models directory\n",
        "MODEL_PATH = Path(\"models\")\n",
        "MODEL_PATH.mkdir(parents=True, exist_ok=True)\n",
        "\n",
        "# 2. Create model save path\n",
        "MODEL_NAME = \"01_pytorch_workflow_model_1.pth\"\n",
        "MODEL_SAVE_PATH = MODEL_PATH / MODEL_NAME\n",
        "\n",
        "# 3. Save the model state dict\n",
        "print(f\"Saving model to: {MODEL_SAVE_PATH}\")\n",
        "torch.save(obj=model.state_dict(), # only saving the state_dict() only saves the models learned parameters\n",
        "           f=MODEL_SAVE_PATH)"
      ],
      "metadata": {
        "colab": {
          "base_uri": "https://localhost:8080/"
        },
        "id": "T8MVODIkJmCJ",
        "outputId": "ae8249db-9718-4a31-8e95-63accd8cdea2"
      },
      "execution_count": 1217,
      "outputs": [
        {
          "output_type": "stream",
          "name": "stdout",
          "text": [
            "Saving model to: models/01_pytorch_workflow_model_1.pth\n"
          ]
        }
      ]
    },
    {
      "cell_type": "code",
      "source": [
        "# Instantiate a fresh instance of LinearRegressionModelV2\n",
        "loaded_model_1 = Model_01()\n",
        "\n",
        "# Load model state dict\n",
        "loaded_model_1.load_state_dict(torch.load(MODEL_SAVE_PATH))\n",
        "\n",
        "# Put model to target device (if your data is on GPU, model will have to be on GPU to make predictions)\n",
        "loaded_model_1.to(device)\n",
        "\n",
        "print(f\"Loaded model:\\n{loaded_model_1}\")\n",
        "print(f\"Model on device:\\n{next(loaded_model_1.parameters()).device}\")"
      ],
      "metadata": {
        "colab": {
          "base_uri": "https://localhost:8080/"
        },
        "id": "JF7a73ujKB62",
        "outputId": "854171b0-4cab-455a-95a4-e37a616da6eb"
      },
      "execution_count": 1218,
      "outputs": [
        {
          "output_type": "stream",
          "name": "stdout",
          "text": [
            "Loaded model:\n",
            "Model_01()\n",
            "Model on device:\n",
            "cuda:0\n"
          ]
        }
      ]
    },
    {
      "cell_type": "code",
      "source": [
        "# Evaluate loaded model\n",
        "loaded_model_1.eval()\n",
        "with torch.inference_mode():\n",
        "    loaded_model_1_preds = loaded_model_1(X_test)\n",
        "yhat == loaded_model_1_preds"
      ],
      "metadata": {
        "colab": {
          "base_uri": "https://localhost:8080/"
        },
        "id": "WfWcOh8bKDJk",
        "outputId": "118cf5a7-f828-48d5-9a48-ed79a8762617"
      },
      "execution_count": 1219,
      "outputs": [
        {
          "output_type": "execute_result",
          "data": {
            "text/plain": [
              "tensor([[True],\n",
              "        [True],\n",
              "        [True],\n",
              "        [True],\n",
              "        [True],\n",
              "        [True],\n",
              "        [True],\n",
              "        [True],\n",
              "        [True],\n",
              "        [True],\n",
              "        [True],\n",
              "        [True],\n",
              "        [True],\n",
              "        [True],\n",
              "        [True],\n",
              "        [True],\n",
              "        [True],\n",
              "        [True],\n",
              "        [True],\n",
              "        [True]], device='cuda:0')"
            ]
          },
          "metadata": {},
          "execution_count": 1219
        }
      ]
    },
    {
      "cell_type": "markdown",
      "source": [
        "# Advanced Assignment"
      ],
      "metadata": {
        "id": "KgmUsOBlKhHS"
      }
    },
    {
      "cell_type": "code",
      "source": [
        "# import libraries\n",
        "import zipfile\n",
        "import pandas as pd"
      ],
      "metadata": {
        "id": "woedFXgNLUXq"
      },
      "execution_count": 1220,
      "outputs": []
    },
    {
      "cell_type": "code",
      "source": [
        "# download dataset in colab env\n",
        "!wget https://archive.ics.uci.edu/static/public/607/synchronous+machine+data+set.zip -O data.zip"
      ],
      "metadata": {
        "colab": {
          "base_uri": "https://localhost:8080/"
        },
        "id": "XX30dqNGLsgA",
        "outputId": "be502c82-9dd6-4a19-a03d-464a5c677717"
      },
      "execution_count": 1221,
      "outputs": [
        {
          "output_type": "stream",
          "name": "stdout",
          "text": [
            "--2023-12-27 00:28:12--  https://archive.ics.uci.edu/static/public/607/synchronous+machine+data+set.zip\n",
            "Resolving archive.ics.uci.edu (archive.ics.uci.edu)... 128.195.10.252\n",
            "Connecting to archive.ics.uci.edu (archive.ics.uci.edu)|128.195.10.252|:443... connected.\n",
            "HTTP request sent, awaiting response... 200 OK\n",
            "Length: unspecified\n",
            "Saving to: ‘data.zip’\n",
            "\n",
            "data.zip                [ <=>                ]  14.37K  --.-KB/s    in 0.04s   \n",
            "\n",
            "2023-12-27 00:28:12 (374 KB/s) - ‘data.zip’ saved [14713]\n",
            "\n"
          ]
        }
      ]
    },
    {
      "cell_type": "code",
      "source": [
        "# unzip data\n",
        "with zipfile.ZipFile(\"data.zip\", 'r') as my_zip:\n",
        "    my_zip.extractall()\n"
      ],
      "metadata": {
        "id": "4LepQLMtLx2Y"
      },
      "execution_count": 1222,
      "outputs": []
    },
    {
      "cell_type": "code",
      "source": [
        "# read csv and parse to pandas\n",
        "dataset_name = \"synchronous machine.csv\"\n",
        "data = pd.read_csv(dataset_name, delimiter=\";\", thousands=',')\n",
        "data.columns"
      ],
      "metadata": {
        "id": "icf4ZhoiL8V0",
        "colab": {
          "base_uri": "https://localhost:8080/"
        },
        "outputId": "fadfea02-48c0-4d2b-8f5a-89562a5f3214"
      },
      "execution_count": 1223,
      "outputs": [
        {
          "output_type": "execute_result",
          "data": {
            "text/plain": [
              "Index(['Iy', 'PF', 'e', 'dIf', 'If'], dtype='object')"
            ]
          },
          "metadata": {},
          "execution_count": 1223
        }
      ]
    },
    {
      "cell_type": "code",
      "source": [
        " # get numpy data\n",
        "numpy_data = data.values"
      ],
      "metadata": {
        "id": "dXjpEpTbCzVr"
      },
      "execution_count": 1224,
      "outputs": []
    },
    {
      "cell_type": "markdown",
      "source": [
        "## Question 1"
      ],
      "metadata": {
        "id": "PQxxys_7C_B_"
      }
    },
    {
      "cell_type": "code",
      "source": [
        "# Question b: Convert the Numpy array to PyTorch tensor, original data tensor.\n",
        "original_data_tensor = torch.from_numpy(numpy_data)#.type(torch.float)\n",
        "original_data_tensor"
      ],
      "metadata": {
        "colab": {
          "base_uri": "https://localhost:8080/"
        },
        "id": "LBVzEriSC6AA",
        "outputId": "9af7b9ef-d277-4c5f-9fdf-ec044779f958"
      },
      "execution_count": 1225,
      "outputs": [
        {
          "output_type": "execute_result",
          "data": {
            "text/plain": [
              "tensor([[   3,   66,   34,  383, 1563],\n",
              "        [   3,   68,   32,  372, 1552],\n",
              "        [   3,    7,    3,   36,  154],\n",
              "        ...,\n",
              "        [   6,   95,    5,   16,  134],\n",
              "        [   6,   97,    3,   16,  134],\n",
              "        [   6,   99,    1,   16,  134]])"
            ]
          },
          "metadata": {},
          "execution_count": 1225
        }
      ]
    },
    {
      "cell_type": "markdown",
      "source": [
        "## Question 2 : Art of 'Tensor Manipulation'"
      ],
      "metadata": {
        "id": "YkTOvMgyDzy_"
      }
    },
    {
      "cell_type": "code",
      "source": [
        "# Question a: print the size of the dataset\n",
        "print(f\"The size of the dataset is {original_data_tensor.size()}\")"
      ],
      "metadata": {
        "colab": {
          "base_uri": "https://localhost:8080/"
        },
        "id": "0Pu8vGHjC51c",
        "outputId": "ae3b8f8f-e4b8-46a8-c9a2-ec1461622c9a"
      },
      "execution_count": 1226,
      "outputs": [
        {
          "output_type": "stream",
          "name": "stdout",
          "text": [
            "The size of the dataset is torch.Size([557, 5])\n"
          ]
        }
      ]
    },
    {
      "cell_type": "code",
      "source": [
        "# Question b: Create a tensor, my pi tensor of same size as original\n",
        "# data tensor containing values of 3.142 at every point and placed on\n",
        "# your GPU device. Print the first 13 rows. Print tensor device location.\n",
        "# Print tensor datatype.\n",
        "row = original_data_tensor.shape[0]\n",
        "col = original_data_tensor.shape[1]\n",
        "my_pi_tensor = torch.ones(size = (row,col), device=device) * 3.142\n",
        "print(f\"The first 13 rows: {my_pi_tensor[:13]}\")\n",
        "print(f\"The tensor device location: {my_pi_tensor.device}\")\n",
        "print(f\"The tensor type is: {my_pi_tensor.dtype}\")"
      ],
      "metadata": {
        "colab": {
          "base_uri": "https://localhost:8080/"
        },
        "id": "QWAO15o0C5ql",
        "outputId": "8123a568-7b14-4fad-fd72-9c4cfe265256"
      },
      "execution_count": 1227,
      "outputs": [
        {
          "output_type": "stream",
          "name": "stdout",
          "text": [
            "The first 13 rows: tensor([[3.1420, 3.1420, 3.1420, 3.1420, 3.1420],\n",
            "        [3.1420, 3.1420, 3.1420, 3.1420, 3.1420],\n",
            "        [3.1420, 3.1420, 3.1420, 3.1420, 3.1420],\n",
            "        [3.1420, 3.1420, 3.1420, 3.1420, 3.1420],\n",
            "        [3.1420, 3.1420, 3.1420, 3.1420, 3.1420],\n",
            "        [3.1420, 3.1420, 3.1420, 3.1420, 3.1420],\n",
            "        [3.1420, 3.1420, 3.1420, 3.1420, 3.1420],\n",
            "        [3.1420, 3.1420, 3.1420, 3.1420, 3.1420],\n",
            "        [3.1420, 3.1420, 3.1420, 3.1420, 3.1420],\n",
            "        [3.1420, 3.1420, 3.1420, 3.1420, 3.1420],\n",
            "        [3.1420, 3.1420, 3.1420, 3.1420, 3.1420],\n",
            "        [3.1420, 3.1420, 3.1420, 3.1420, 3.1420],\n",
            "        [3.1420, 3.1420, 3.1420, 3.1420, 3.1420]], device='cuda:0')\n",
            "The tensor device location: cuda:0\n",
            "The tensor type is: torch.float32\n"
          ]
        }
      ]
    },
    {
      "cell_type": "code",
      "source": [
        "# Question c: Print the fifth-root of the sum of all values in\n",
        "# my pi tensor.\n",
        "# fifth-root can be represented as number ** (0.2)\n",
        "sum_of_values = torch.sum(my_pi_tensor).item() ** 0.2\n",
        "print(f\"The fifthe-root of the sum of all values is: {sum_of_values:.3f}\")"
      ],
      "metadata": {
        "colab": {
          "base_uri": "https://localhost:8080/"
        },
        "id": "V315JmbJLpa8",
        "outputId": "81a21b69-c853-4a55-cbec-acfa14d9fb6f"
      },
      "execution_count": 1228,
      "outputs": [
        {
          "output_type": "stream",
          "name": "stdout",
          "text": [
            "The fifthe-root of the sum of all values is: 6.143\n"
          ]
        }
      ]
    },
    {
      "cell_type": "code",
      "source": [
        "# Question d: Create a new tensor, my data tensor using the first and\n",
        "# last 100 rows from the original data tensor. Print size of my\n",
        "# data tensor [Expect a size of 200 rows].\n",
        "first_hundred = original_data_tensor[:100]\n",
        "print(len(first_hundred))\n",
        "last_hundred = original_data_tensor[457:]\n",
        "print(len(last_hundred))\n",
        "my_data_tensor = torch.cat([first_hundred, last_hundred], dim =0)\n",
        "print(my_data_tensor.shape)\n",
        "my_data_tensor[:5]"
      ],
      "metadata": {
        "colab": {
          "base_uri": "https://localhost:8080/"
        },
        "id": "K1ssoD0ZLpIp",
        "outputId": "a9873b15-4ddc-46bf-a760-bb3f10f06a3b"
      },
      "execution_count": 1229,
      "outputs": [
        {
          "output_type": "stream",
          "name": "stdout",
          "text": [
            "100\n",
            "100\n",
            "torch.Size([200, 5])\n"
          ]
        },
        {
          "output_type": "execute_result",
          "data": {
            "text/plain": [
              "tensor([[   3,   66,   34,  383, 1563],\n",
              "        [   3,   68,   32,  372, 1552],\n",
              "        [   3,    7,    3,   36,  154],\n",
              "        [   3,   72,   28,  338, 1518],\n",
              "        [   3,   74,   26,  317, 1497]])"
            ]
          },
          "metadata": {},
          "execution_count": 1229
        }
      ]
    },
    {
      "cell_type": "code",
      "source": [
        "# Question e: Create two 1-D tensors, features and target from my data\n",
        "# tensor. The feature is dIf (Changing of excitation current of\n",
        "# synchronous machine) I) column and target is If (Excitation current\n",
        "# of synchronous machine).\n",
        "\n",
        "x = my_data_tensor[:,3].unsqueeze(dim=1)\n",
        "y = my_data_tensor[:,4].unsqueeze(dim=1)\n",
        "len(x), len(y)"
      ],
      "metadata": {
        "colab": {
          "base_uri": "https://localhost:8080/"
        },
        "id": "cspzNka1Lo19",
        "outputId": "fffb5561-f505-401b-9461-7eccec0c1ddc"
      },
      "execution_count": 1230,
      "outputs": [
        {
          "output_type": "execute_result",
          "data": {
            "text/plain": [
              "(200, 200)"
            ]
          },
          "metadata": {},
          "execution_count": 1230
        }
      ]
    },
    {
      "cell_type": "code",
      "source": [
        "# Question f: Split your data into training and test data of ratio 75:25 respectively\n",
        "train_size = int(0.75 * len(x))\n",
        "x_train, y_train = x[:train_size].type(torch.float).to(device), y[:train_size].type(torch.float).to(device)\n",
        "x_test, y_test = x[train_size:].type(torch.float).to(device), y[train_size:].type(torch.float).to(device)\n",
        "\n",
        "#len(x_train), len(y_train), len(x_test), len(y_test)\n",
        "x_train.dtype, y_train.dtype, x_test.dtype, y_test.dtype"
      ],
      "metadata": {
        "colab": {
          "base_uri": "https://localhost:8080/"
        },
        "id": "LGRcYwrc_ZJB",
        "outputId": "243f94c8-f697-4efb-8f75-df8de6649c7c"
      },
      "execution_count": 1231,
      "outputs": [
        {
          "output_type": "execute_result",
          "data": {
            "text/plain": [
              "(torch.float32, torch.float32, torch.float32, torch.float32)"
            ]
          },
          "metadata": {},
          "execution_count": 1231
        }
      ]
    },
    {
      "cell_type": "markdown",
      "source": [
        "# Part 2 Pytorch Workflow Fundamentals"
      ],
      "metadata": {
        "id": "Nt3iNFwCdFRq"
      }
    },
    {
      "cell_type": "markdown",
      "source": [
        "## Question 3: Define your Linear model structure. You can use existing model.\n"
      ],
      "metadata": {
        "id": "2VK_YQsRdS2T"
      }
    },
    {
      "cell_type": "code",
      "source": [
        "# model\n",
        "class AdvancedAssignmentModel(nn.Module):\n",
        "    def __init__(self):\n",
        "        super().__init__()\n",
        "\n",
        "\n",
        "        self.layer_1 = nn.Linear(in_features=1,\n",
        "                                 out_features=8)\n",
        "\n",
        "        self.layer_2 = nn.Linear(in_features=8,\n",
        "                                 out_features=1)\n",
        "    def forward(self, x):\n",
        "        return self.layer_2(self.layer_1(x))"
      ],
      "metadata": {
        "id": "YeT0mbxJAaBa"
      },
      "execution_count": 1232,
      "outputs": []
    },
    {
      "cell_type": "code",
      "source": [
        "# initialize model\n",
        "torch.manual_seed(42)\n",
        "model_Assig = AdvancedAssignmentModel().to(device)\n",
        "list(model_Assig.parameters())"
      ],
      "metadata": {
        "colab": {
          "base_uri": "https://localhost:8080/"
        },
        "id": "MF97ntAiBifL",
        "outputId": "cb514442-e247-46f7-a04d-4d77067c04f5"
      },
      "execution_count": 1233,
      "outputs": [
        {
          "output_type": "execute_result",
          "data": {
            "text/plain": [
              "[Parameter containing:\n",
              " tensor([[ 0.7645],\n",
              "         [ 0.8300],\n",
              "         [-0.2343],\n",
              "         [ 0.9186],\n",
              "         [-0.2191],\n",
              "         [ 0.2018],\n",
              "         [-0.4869],\n",
              "         [ 0.5873]], device='cuda:0', requires_grad=True),\n",
              " Parameter containing:\n",
              " tensor([ 0.8815, -0.7336,  0.8692,  0.1872,  0.7388,  0.1354,  0.4822, -0.1412],\n",
              "        device='cuda:0', requires_grad=True),\n",
              " Parameter containing:\n",
              " tensor([[ 0.2725,  0.0523, -0.1651,  0.0901, -0.1629, -0.0415, -0.1436,  0.2345]],\n",
              "        device='cuda:0', requires_grad=True),\n",
              " Parameter containing:\n",
              " tensor([-0.2791], device='cuda:0', requires_grad=True)]"
            ]
          },
          "metadata": {},
          "execution_count": 1233
        }
      ]
    },
    {
      "cell_type": "code",
      "source": [
        "model_Assig.state_dict()"
      ],
      "metadata": {
        "colab": {
          "base_uri": "https://localhost:8080/"
        },
        "id": "_sQg-du6egYO",
        "outputId": "2e8217ad-2178-4ef9-c368-f41b702a9d2b"
      },
      "execution_count": 1234,
      "outputs": [
        {
          "output_type": "execute_result",
          "data": {
            "text/plain": [
              "OrderedDict([('layer_1.weight',\n",
              "              tensor([[ 0.7645],\n",
              "                      [ 0.8300],\n",
              "                      [-0.2343],\n",
              "                      [ 0.9186],\n",
              "                      [-0.2191],\n",
              "                      [ 0.2018],\n",
              "                      [-0.4869],\n",
              "                      [ 0.5873]], device='cuda:0')),\n",
              "             ('layer_1.bias',\n",
              "              tensor([ 0.8815, -0.7336,  0.8692,  0.1872,  0.7388,  0.1354,  0.4822, -0.1412],\n",
              "                     device='cuda:0')),\n",
              "             ('layer_2.weight',\n",
              "              tensor([[ 0.2725,  0.0523, -0.1651,  0.0901, -0.1629, -0.0415, -0.1436,  0.2345]],\n",
              "                     device='cuda:0')),\n",
              "             ('layer_2.bias', tensor([-0.2791], device='cuda:0'))])"
            ]
          },
          "metadata": {},
          "execution_count": 1234
        }
      ]
    },
    {
      "cell_type": "code",
      "source": [
        "# loss and optimizer\n",
        "loss_fn = nn.L1Loss()\n",
        "\n",
        "optimizer = torch.optim.SGD(model_Assig.parameters(), lr = 0.001)"
      ],
      "metadata": {
        "id": "tDnb2m1Xevkn"
      },
      "execution_count": 1235,
      "outputs": []
    },
    {
      "cell_type": "markdown",
      "source": [
        "### Question 4: Train model for any number of epochs. Generate 1 plot of Loss against Epoch during model training and testing. Choose any set of hyperparameters for model training."
      ],
      "metadata": {
        "id": "SGFAgk5Kfixv"
      }
    },
    {
      "cell_type": "code",
      "source": [
        "torch.manual_seed(42)\n",
        "Epochs = 1000\n",
        "store_train_loss = []\n",
        "store_test_loss = []\n",
        "store_epoch = []\n",
        "\n",
        "for epoch in range(Epochs):\n",
        "\n",
        "    model_Assig.train()\n",
        "\n",
        "    # fit\n",
        "    yhat = model_Assig(x_train)\n",
        "\n",
        "    # loss\n",
        "    loss = loss_fn(yhat, y_train)\n",
        "\n",
        "    optimizer.zero_grad()\n",
        "\n",
        "    # backward prop\n",
        "    loss.backward()\n",
        "\n",
        "    #optimizer\n",
        "    optimizer.step()\n",
        "\n",
        "    model_Assig.eval()\n",
        "\n",
        "    with torch.inference_mode():\n",
        "\n",
        "        yhat_test = model_Assig(x_test)\n",
        "\n",
        "        test_loss = loss_fn(yhat_test, y_test)\n",
        "\n",
        "        if epoch % 10 == 0:\n",
        "            store_train_loss.append(loss.detach().cpu().numpy())\n",
        "            store_test_loss.append(test_loss.detach().cpu().numpy())\n",
        "            store_epoch.append(epoch)\n",
        "            print(f\"Epoch {epoch}, Train loss: {loss:.2f}, Test loss: {test_loss:.2f}\")"
      ],
      "metadata": {
        "colab": {
          "base_uri": "https://localhost:8080/"
        },
        "id": "ju24lasTfOB6",
        "outputId": "e7589b34-3a0f-41e6-b92c-727473d17bd5"
      },
      "execution_count": 1236,
      "outputs": [
        {
          "output_type": "stream",
          "name": "stdout",
          "text": [
            "Epoch 0, Train loss: 1156.99, Test loss: 859.67\n",
            "Epoch 10, Train loss: 437.43, Test loss: 429.38\n",
            "Epoch 20, Train loss: 438.38, Test loss: 432.36\n",
            "Epoch 30, Train loss: 439.13, Test loss: 418.07\n",
            "Epoch 40, Train loss: 433.64, Test loss: 428.48\n",
            "Epoch 50, Train loss: 433.92, Test loss: 429.59\n",
            "Epoch 60, Train loss: 437.23, Test loss: 430.59\n",
            "Epoch 70, Train loss: 437.28, Test loss: 430.98\n",
            "Epoch 80, Train loss: 437.32, Test loss: 431.30\n",
            "Epoch 90, Train loss: 437.33, Test loss: 431.55\n",
            "Epoch 100, Train loss: 437.01, Test loss: 430.87\n",
            "Epoch 110, Train loss: 437.00, Test loss: 431.01\n",
            "Epoch 120, Train loss: 436.98, Test loss: 431.11\n",
            "Epoch 130, Train loss: 436.95, Test loss: 431.17\n",
            "Epoch 140, Train loss: 436.58, Test loss: 430.33\n",
            "Epoch 150, Train loss: 436.22, Test loss: 429.47\n",
            "Epoch 160, Train loss: 435.85, Test loss: 428.58\n",
            "Epoch 170, Train loss: 435.47, Test loss: 427.68\n",
            "Epoch 180, Train loss: 435.10, Test loss: 426.77\n",
            "Epoch 190, Train loss: 437.90, Test loss: 434.42\n",
            "Epoch 200, Train loss: 437.52, Test loss: 433.42\n",
            "Epoch 210, Train loss: 437.14, Test loss: 432.46\n",
            "Epoch 220, Train loss: 436.76, Test loss: 431.51\n",
            "Epoch 230, Train loss: 436.38, Test loss: 430.56\n",
            "Epoch 240, Train loss: 436.00, Test loss: 429.61\n",
            "Epoch 250, Train loss: 435.63, Test loss: 428.66\n",
            "Epoch 260, Train loss: 435.25, Test loss: 427.72\n",
            "Epoch 270, Train loss: 434.89, Test loss: 426.79\n",
            "Epoch 280, Train loss: 437.70, Test loss: 434.41\n",
            "Epoch 290, Train loss: 437.33, Test loss: 433.41\n",
            "Epoch 300, Train loss: 436.98, Test loss: 432.49\n",
            "Epoch 310, Train loss: 436.62, Test loss: 431.58\n",
            "Epoch 320, Train loss: 436.27, Test loss: 430.68\n",
            "Epoch 330, Train loss: 435.93, Test loss: 429.80\n",
            "Epoch 340, Train loss: 435.59, Test loss: 428.92\n",
            "Epoch 350, Train loss: 435.25, Test loss: 428.06\n",
            "Epoch 360, Train loss: 434.93, Test loss: 427.22\n",
            "Epoch 370, Train loss: 437.78, Test loss: 434.98\n",
            "Epoch 380, Train loss: 437.46, Test loss: 434.09\n",
            "Epoch 390, Train loss: 437.15, Test loss: 433.23\n",
            "Epoch 400, Train loss: 436.84, Test loss: 432.44\n",
            "Epoch 410, Train loss: 436.54, Test loss: 431.66\n",
            "Epoch 420, Train loss: 436.25, Test loss: 430.90\n",
            "Epoch 430, Train loss: 435.96, Test loss: 430.16\n",
            "Epoch 440, Train loss: 435.68, Test loss: 429.43\n",
            "Epoch 450, Train loss: 435.40, Test loss: 428.72\n",
            "Epoch 460, Train loss: 435.14, Test loss: 428.03\n",
            "Epoch 470, Train loss: 434.87, Test loss: 427.35\n",
            "Epoch 480, Train loss: 434.62, Test loss: 426.69\n",
            "Epoch 490, Train loss: 437.54, Test loss: 434.62\n",
            "Epoch 500, Train loss: 437.30, Test loss: 433.94\n",
            "Epoch 510, Train loss: 437.06, Test loss: 433.28\n",
            "Epoch 520, Train loss: 436.83, Test loss: 432.69\n",
            "Epoch 530, Train loss: 436.61, Test loss: 432.11\n",
            "Epoch 540, Train loss: 436.39, Test loss: 431.55\n",
            "Epoch 550, Train loss: 436.18, Test loss: 431.01\n",
            "Epoch 560, Train loss: 435.98, Test loss: 430.49\n",
            "Epoch 570, Train loss: 435.78, Test loss: 429.99\n",
            "Epoch 580, Train loss: 435.60, Test loss: 429.51\n",
            "Epoch 590, Train loss: 435.41, Test loss: 429.04\n",
            "Epoch 600, Train loss: 435.24, Test loss: 428.59\n",
            "Epoch 610, Train loss: 435.07, Test loss: 428.16\n",
            "Epoch 620, Train loss: 434.91, Test loss: 427.75\n",
            "Epoch 630, Train loss: 434.75, Test loss: 427.36\n",
            "Epoch 640, Train loss: 434.61, Test loss: 426.98\n",
            "Epoch 650, Train loss: 434.47, Test loss: 426.62\n",
            "Epoch 660, Train loss: 434.33, Test loss: 426.29\n",
            "Epoch 670, Train loss: 437.38, Test loss: 434.55\n",
            "Epoch 680, Train loss: 437.26, Test loss: 434.22\n",
            "Epoch 690, Train loss: 437.14, Test loss: 433.91\n",
            "Epoch 700, Train loss: 437.03, Test loss: 433.62\n",
            "Epoch 710, Train loss: 436.93, Test loss: 433.35\n",
            "Epoch 720, Train loss: 436.84, Test loss: 433.11\n",
            "Epoch 730, Train loss: 436.75, Test loss: 432.89\n",
            "Epoch 740, Train loss: 436.67, Test loss: 432.70\n",
            "Epoch 750, Train loss: 436.60, Test loss: 432.52\n",
            "Epoch 760, Train loss: 436.54, Test loss: 432.36\n",
            "Epoch 770, Train loss: 436.48, Test loss: 432.23\n",
            "Epoch 780, Train loss: 436.43, Test loss: 432.11\n",
            "Epoch 790, Train loss: 436.38, Test loss: 432.01\n",
            "Epoch 800, Train loss: 436.34, Test loss: 431.92\n",
            "Epoch 810, Train loss: 436.31, Test loss: 431.86\n",
            "Epoch 820, Train loss: 436.29, Test loss: 431.81\n",
            "Epoch 830, Train loss: 436.27, Test loss: 431.79\n",
            "Epoch 840, Train loss: 436.26, Test loss: 431.78\n",
            "Epoch 850, Train loss: 436.26, Test loss: 431.79\n",
            "Epoch 860, Train loss: 436.26, Test loss: 431.82\n",
            "Epoch 870, Train loss: 436.27, Test loss: 431.87\n",
            "Epoch 880, Train loss: 436.29, Test loss: 431.93\n",
            "Epoch 890, Train loss: 436.31, Test loss: 432.02\n",
            "Epoch 900, Train loss: 436.35, Test loss: 432.12\n",
            "Epoch 910, Train loss: 436.38, Test loss: 432.24\n",
            "Epoch 920, Train loss: 436.43, Test loss: 432.38\n",
            "Epoch 930, Train loss: 436.48, Test loss: 432.54\n",
            "Epoch 940, Train loss: 436.54, Test loss: 432.72\n",
            "Epoch 950, Train loss: 436.61, Test loss: 432.92\n",
            "Epoch 960, Train loss: 436.68, Test loss: 433.16\n",
            "Epoch 970, Train loss: 436.76, Test loss: 433.41\n",
            "Epoch 980, Train loss: 436.85, Test loss: 433.68\n",
            "Epoch 990, Train loss: 436.94, Test loss: 433.97\n"
          ]
        }
      ]
    },
    {
      "cell_type": "code",
      "source": [
        "# Plot the loss curves\n",
        "plt.plot(store_epoch, store_train_loss, label=\"Train loss\")\n",
        "plt.plot(store_epoch, store_test_loss, label=\"Test loss\")\n",
        "plt.title(\"Training and test loss curves\")\n",
        "plt.ylabel(\"Loss\")\n",
        "plt.xlabel(\"Epochs\")\n",
        "plt.legend();"
      ],
      "metadata": {
        "colab": {
          "base_uri": "https://localhost:8080/",
          "height": 472
        },
        "id": "9qx95W5qhcpb",
        "outputId": "2b53209b-efec-497b-cee6-de441c85b36b"
      },
      "execution_count": 1237,
      "outputs": [
        {
          "output_type": "display_data",
          "data": {
            "text/plain": [
              "<Figure size 640x480 with 1 Axes>"
            ],
            "image/png": "[encoded data removed]"
          },
          "metadata": {}
        }
      ]
    },
    {
      "cell_type": "code",
      "source": [],
      "metadata": {
        "id": "oI0W7j1ZitRl"
      },
      "execution_count": 1237,
      "outputs": []
    }
  ],
  "metadata": {
    "language_info": {
      "name": "python"
    },
    "colab": {
      "provenance": [],
      "gpuType": "T4",
      "include_colab_link": true
    },
    "kernelspec": {
      "name": "python3",
      "display_name": "Python 3"
    },
    "accelerator": "GPU"
  },
  "nbformat": 4,
  "nbformat_minor": 0
}