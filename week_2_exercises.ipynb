{
  "cells": [
    {
      "cell_type": "markdown",
      "metadata": {
        "id": "view-in-github",
        "colab_type": "text"
      },
      "source": [
        "<a href=\"https://colab.research.google.com/github/bbash/ArewaDS-Deep-Learning/blob/main/week_2_exercises.ipynb\" target=\"_parent\"><img src=\"https://colab.research.google.com/assets/colab-badge.svg\" alt=\"Open In Colab\"/></a>"
      ]
    },
    {
      "cell_type": "markdown",
      "metadata": {
        "id": "ZPWSUKU23PiZ"
      },
      "source": [
        "## Arewa DataScience Academy\n",
        "### Deep Learning Cohort 1.0\n",
        "\n",
        "### Name: Bashir Salisu Abubakar\n",
        "\n",
        "### Email: bsalisu2016@gmail.com\n",
        "\n",
        "### Title: Week 2 Solution\n",
        "\n",
        "### **Exercises Solution**"
      ]
    },
    {
      "cell_type": "code",
      "source": [
        "# import libraries\n",
        "import torch\n",
        "from torch import nn\n",
        "import matplotlib.pyplot as plt\n",
        "torch.__version__"
      ],
      "metadata": {
        "colab": {
          "base_uri": "https://localhost:8080/",
          "height": 35
        },
        "id": "dqHwdoGT4m1g",
        "outputId": "87f09a0a-a5df-4166-bb5a-b5ff3474e53c"
      },
      "execution_count": 1,
      "outputs": [
        {
          "output_type": "execute_result",
          "data": {
            "text/plain": [
              "'2.1.0+cu121'"
            ],
            "application/vnd.google.colaboratory.intrinsic+json": {
              "type": "string"
            }
          },
          "metadata": {},
          "execution_count": 1
        }
      ]
    },
    {
      "cell_type": "code",
      "source": [
        "# set device\n",
        "device = 'cuda' if torch.cuda.is_available() else 'cpu'\n",
        "print(f\"The device is: {device}\")"
      ],
      "metadata": {
        "colab": {
          "base_uri": "https://localhost:8080/"
        },
        "id": "4mioiyxx6YVm",
        "outputId": "377d4068-6b59-443d-81ef-c615ea5993c5"
      },
      "execution_count": 2,
      "outputs": [
        {
          "output_type": "stream",
          "name": "stdout",
          "text": [
            "The device is: cpu\n"
          ]
        }
      ]
    },
    {
      "cell_type": "markdown",
      "source": [
        "1. Create a straight line dataset using the linear regression formula (weight * X + bias)."
      ],
      "metadata": {
        "id": "AiTXfsAi4_pf"
      }
    },
    {
      "cell_type": "code",
      "execution_count": 3,
      "metadata": {
        "vscode": {
          "languageId": "plaintext"
        },
        "colab": {
          "base_uri": "https://localhost:8080/"
        },
        "id": "MyCfZkYE3Pi9",
        "outputId": "6157a8e2-fee7-4591-8dde-83da3600c936"
      },
      "outputs": [
        {
          "output_type": "execute_result",
          "data": {
            "text/plain": [
              "(100, 100, torch.Size([100, 1]), torch.Size([100, 1]))"
            ]
          },
          "metadata": {},
          "execution_count": 3
        }
      ],
      "source": [
        "# Set weight=0.3 and bias=0.9 there should be at least 100 datapoints total\n",
        "\n",
        "weight = 0.3\n",
        "bias = 0.9\n",
        "\n",
        "start = 0\n",
        "end = 1\n",
        "step = 0.01\n",
        "\n",
        "X = torch.arange(start=start, end=end, step=step).unsqueeze(dim=1)\n",
        "\n",
        "y = weight * X + bias\n",
        "\n",
        "len(X), len(y), X.shape, y.shape"
      ]
    },
    {
      "cell_type": "code",
      "source": [
        "# Split the data into 80% training, 20% testing.\n",
        "train_size = int(0.8 * len(X))\n",
        "\n",
        "X_train, y_train = X[:train_size], y[:train_size]\n",
        "X_test, y_test = X[train_size:],y[train_size:]\n",
        "\n",
        "len(X_train), len(y_train), len(X_test), len(y_test)"
      ],
      "metadata": {
        "colab": {
          "base_uri": "https://localhost:8080/"
        },
        "id": "294d8Pcd6uTZ",
        "outputId": "cf2128a5-d29e-4934-a2ee-bd62c90110c0"
      },
      "execution_count": 4,
      "outputs": [
        {
          "output_type": "execute_result",
          "data": {
            "text/plain": [
              "(80, 80, 20, 20)"
            ]
          },
          "metadata": {},
          "execution_count": 4
        }
      ]
    },
    {
      "cell_type": "code",
      "source": [
        "### Plot the training and testing data so it becomes visual\n",
        "def plot_visual(train_data = X_train,\n",
        "                train_label = y_train,\n",
        "                test_data = X_test,\n",
        "                test_label = y_test,\n",
        "                prediction = None):\n",
        "\n",
        "    plt.figure(figsize=(10,7))\n",
        "    plt.scatter(train_data, train_label, c ='b', s= 4, label = 'Train_data')\n",
        "    plt.scatter(test_data, test_label,c ='r', s =4, label ='Test_data')\n",
        "\n",
        "    if prediction is not None:\n",
        "               plt.scatter(test_data, prediction, c='g', s =4, label='Prediction')\n",
        "\n",
        "    plt.legend(prop={\"size\": 14});"
      ],
      "metadata": {
        "id": "uftVAhBkFQvC"
      },
      "execution_count": 5,
      "outputs": []
    },
    {
      "cell_type": "code",
      "source": [
        "plot_visual()"
      ],
      "metadata": {
        "colab": {
          "base_uri": "https://localhost:8080/",
          "height": 599
        },
        "id": "3KKw8P2lHHmr",
        "outputId": "a80c691f-6ff4-4543-ae18-20e63e97445f"
      },
      "execution_count": 6,
      "outputs": [
        {
          "output_type": "display_data",
          "data": {
            "text/plain": [
              "<Figure size 1000x700 with 1 Axes>"
            ],
            "image/png": "[encoded data removed]"
          },
          "metadata": {}
        }
      ]
    },
    {
      "cell_type": "markdown",
      "source": [
        "### 2. Build a PyTorch model by subclassing nn.Module."
      ],
      "metadata": {
        "id": "lsWTi8H28hXB"
      }
    },
    {
      "cell_type": "code",
      "source": [
        "# nside should be a randomly initialized nn.Parameter() with requires_grad=True, one for weights and one for bias.\n",
        "\n",
        "class Model_01(nn.Module):\n",
        "\n",
        "    def __init__(self):\n",
        "        super().__init__()\n",
        "\n",
        "        self.weight = nn.Parameter(\n",
        "            torch.randn(1, dtype=torch.float),\n",
        "            requires_grad=True\n",
        "        )\n",
        "        self.bias = nn.Parameter(\n",
        "            torch.randn(1, dtype=torch.float),\n",
        "            requires_grad=True\n",
        "        )\n",
        "    def forward(self, X):\n",
        "        return self.weight * X + self.bias"
      ],
      "metadata": {
        "id": "GvFGBgio6uF4"
      },
      "execution_count": 7,
      "outputs": []
    },
    {
      "cell_type": "code",
      "source": [
        "# Once you've constructed the model, make an instance of it and check its state_dict()\n",
        "\n",
        "torch.manual_seed(42)\n",
        "\n",
        "model = Model_01().to(device)\n",
        "\n",
        "model.state_dict()\n"
      ],
      "metadata": {
        "colab": {
          "base_uri": "https://localhost:8080/"
        },
        "id": "oIVXj41P6txu",
        "outputId": "fc2beb2a-13b2-4eb1-88cd-29ff10389e0a"
      },
      "execution_count": 8,
      "outputs": [
        {
          "output_type": "execute_result",
          "data": {
            "text/plain": [
              "OrderedDict([('weight', tensor([0.3367])), ('bias', tensor([0.1288]))])"
            ]
          },
          "metadata": {},
          "execution_count": 8
        }
      ]
    },
    {
      "cell_type": "markdown",
      "source": [
        "### 3. Create a loss function and optimizer using nn.L1Loss() and torch.optim.SGD(params, lr) respectively"
      ],
      "metadata": {
        "id": "Kzvfo_j2_pxP"
      }
    },
    {
      "cell_type": "code",
      "source": [
        "# Loss function\n",
        "loss_fn = nn.L1Loss()\n",
        "\n",
        "# Optimizer (lr = 0.01)\n",
        "optimizer = torch.optim.SGD(model.parameters(), lr=0.01)"
      ],
      "metadata": {
        "id": "QuMIHpiX-Iwh"
      },
      "execution_count": 9,
      "outputs": []
    },
    {
      "cell_type": "code",
      "source": [
        "torch.manual_seed(42)\n",
        "\n",
        "# Write a training loop to perform the appropriate training steps for 300 epochs.\n",
        "Epochs = 300\n",
        "\n",
        "# put train and test data into device\n",
        "X_train, y_train = X_train.to(device), y_train.to(device)\n",
        "X_test, y_test = X_test.to(device), y_test.to(device)\n",
        "\n",
        "for epoch in range(Epochs):\n",
        "\n",
        "    model.train()\n",
        "\n",
        "    # fit data\n",
        "    yhat = model(X_train)\n",
        "\n",
        "    # calculate loss\n",
        "    loss = loss_fn(yhat, y_train)\n",
        "\n",
        "    #grad_zero\n",
        "    optimizer.zero_grad()\n",
        "\n",
        "    # backward prop\n",
        "    loss.backward()\n",
        "\n",
        "    # opimizer\n",
        "    optimizer.step()\n",
        "\n",
        "    model.eval()\n",
        "\n",
        "    with torch.inference_mode():\n",
        "\n",
        "        test_yhat = model(X_test)\n",
        "\n",
        "        test_loss = loss_fn(test_yhat, y_test)\n",
        "\n",
        "        if epoch % 20  == 0:\n",
        "            print(f\"At Epoch: {epoch}, Training loss: {loss:.3f} and Test loss {test_loss:.3f}\")\n"
      ],
      "metadata": {
        "colab": {
          "base_uri": "https://localhost:8080/"
        },
        "id": "SsBTPFOe-Ig9",
        "outputId": "638f0680-dc68-4545-e02d-b90141695f64"
      },
      "execution_count": 10,
      "outputs": [
        {
          "output_type": "stream",
          "name": "stdout",
          "text": [
            "At Epoch: 0, Training loss: 0.757 and Test loss 0.725\n",
            "At Epoch: 20, Training loss: 0.525 and Test loss 0.454\n",
            "At Epoch: 40, Training loss: 0.294 and Test loss 0.183\n",
            "At Epoch: 60, Training loss: 0.077 and Test loss 0.073\n",
            "At Epoch: 80, Training loss: 0.053 and Test loss 0.116\n",
            "At Epoch: 100, Training loss: 0.046 and Test loss 0.105\n",
            "At Epoch: 120, Training loss: 0.039 and Test loss 0.089\n",
            "At Epoch: 140, Training loss: 0.032 and Test loss 0.074\n",
            "At Epoch: 160, Training loss: 0.025 and Test loss 0.058\n",
            "At Epoch: 180, Training loss: 0.018 and Test loss 0.042\n",
            "At Epoch: 200, Training loss: 0.011 and Test loss 0.026\n",
            "At Epoch: 220, Training loss: 0.004 and Test loss 0.009\n",
            "At Epoch: 240, Training loss: 0.004 and Test loss 0.006\n",
            "At Epoch: 260, Training loss: 0.004 and Test loss 0.006\n",
            "At Epoch: 280, Training loss: 0.004 and Test loss 0.006\n"
          ]
        }
      ]
    },
    {
      "cell_type": "code",
      "source": [
        "model.state_dict()"
      ],
      "metadata": {
        "colab": {
          "base_uri": "https://localhost:8080/"
        },
        "id": "f_qx_Ea_JcZt",
        "outputId": "7c8782cb-ea94-4e12-c79d-63701e69f3a2"
      },
      "execution_count": 11,
      "outputs": [
        {
          "output_type": "execute_result",
          "data": {
            "text/plain": [
              "OrderedDict([('weight', tensor([0.3067])), ('bias', tensor([0.9011]))])"
            ]
          },
          "metadata": {},
          "execution_count": 11
        }
      ]
    },
    {
      "cell_type": "markdown",
      "source": [
        "### 4. Make predictions with the trained model on the test data."
      ],
      "metadata": {
        "id": "cy-9DEM4Dr6O"
      }
    },
    {
      "cell_type": "code",
      "source": [
        "model.eval()\n",
        "\n",
        "with torch.inference_mode():\n",
        "    yhat = model(X_test)"
      ],
      "metadata": {
        "id": "oNd89_VG-IUN"
      },
      "execution_count": 12,
      "outputs": []
    },
    {
      "cell_type": "code",
      "source": [
        "plot_visual(prediction=yhat.cpu())"
      ],
      "metadata": {
        "colab": {
          "base_uri": "https://localhost:8080/",
          "height": 599
        },
        "id": "HwPTlsgH-IN3",
        "outputId": "92659577-3cb7-418d-8a98-5df480b9534e"
      },
      "execution_count": 13,
      "outputs": [
        {
          "output_type": "display_data",
          "data": {
            "text/plain": [
              "<Figure size 1000x700 with 1 Axes>"
            ],
            "image/png": "[encoded data removed]"
          },
          "metadata": {}
        }
      ]
    },
    {
      "cell_type": "markdown",
      "source": [
        "### Save your trained model's state_dict() to file."
      ],
      "metadata": {
        "id": "RkOGmKQOJthg"
      }
    },
    {
      "cell_type": "code",
      "source": [
        "from pathlib import Path\n",
        "\n",
        "# 1. Create models directory\n",
        "MODEL_PATH = Path(\"models\")\n",
        "MODEL_PATH.mkdir(parents=True, exist_ok=True)\n",
        "\n",
        "# 2. Create model save path\n",
        "MODEL_NAME = \"01_pytorch_workflow_model_1.pth\"\n",
        "MODEL_SAVE_PATH = MODEL_PATH / MODEL_NAME\n",
        "\n",
        "# 3. Save the model state dict\n",
        "print(f\"Saving model to: {MODEL_SAVE_PATH}\")\n",
        "torch.save(obj=model.state_dict(), # only saving the state_dict() only saves the models learned parameters\n",
        "           f=MODEL_SAVE_PATH)"
      ],
      "metadata": {
        "colab": {
          "base_uri": "https://localhost:8080/"
        },
        "id": "T8MVODIkJmCJ",
        "outputId": "6e811799-1b4a-4736-cf22-e794cba3a7ec"
      },
      "execution_count": 14,
      "outputs": [
        {
          "output_type": "stream",
          "name": "stdout",
          "text": [
            "Saving model to: models/01_pytorch_workflow_model_1.pth\n"
          ]
        }
      ]
    },
    {
      "cell_type": "code",
      "source": [
        "# Instantiate a fresh instance of LinearRegressionModelV2\n",
        "loaded_model_1 = Model_01()\n",
        "\n",
        "# Load model state dict\n",
        "loaded_model_1.load_state_dict(torch.load(MODEL_SAVE_PATH))\n",
        "\n",
        "# Put model to target device (if your data is on GPU, model will have to be on GPU to make predictions)\n",
        "loaded_model_1.to(device)\n",
        "\n",
        "print(f\"Loaded model:\\n{loaded_model_1}\")\n",
        "print(f\"Model on device:\\n{next(loaded_model_1.parameters()).device}\")"
      ],
      "metadata": {
        "colab": {
          "base_uri": "https://localhost:8080/"
        },
        "id": "JF7a73ujKB62",
        "outputId": "f4719aad-2dc3-43d1-b37a-ecb31d46c7ef"
      },
      "execution_count": 15,
      "outputs": [
        {
          "output_type": "stream",
          "name": "stdout",
          "text": [
            "Loaded model:\n",
            "Model_01()\n",
            "Model on device:\n",
            "cpu\n"
          ]
        }
      ]
    },
    {
      "cell_type": "code",
      "source": [
        "# Evaluate loaded model\n",
        "loaded_model_1.eval()\n",
        "with torch.inference_mode():\n",
        "    loaded_model_1_preds = loaded_model_1(X_test)\n",
        "yhat == loaded_model_1_preds"
      ],
      "metadata": {
        "colab": {
          "base_uri": "https://localhost:8080/"
        },
        "id": "WfWcOh8bKDJk",
        "outputId": "4d27e5c6-3e21-4ba3-deb2-d9fb6e5c6bc3"
      },
      "execution_count": 16,
      "outputs": [
        {
          "output_type": "execute_result",
          "data": {
            "text/plain": [
              "tensor([[True],\n",
              "        [True],\n",
              "        [True],\n",
              "        [True],\n",
              "        [True],\n",
              "        [True],\n",
              "        [True],\n",
              "        [True],\n",
              "        [True],\n",
              "        [True],\n",
              "        [True],\n",
              "        [True],\n",
              "        [True],\n",
              "        [True],\n",
              "        [True],\n",
              "        [True],\n",
              "        [True],\n",
              "        [True],\n",
              "        [True],\n",
              "        [True]])"
            ]
          },
          "metadata": {},
          "execution_count": 16
        }
      ]
    },
    {
      "cell_type": "markdown",
      "source": [
        "# Advanced Assignment"
      ],
      "metadata": {
        "id": "KgmUsOBlKhHS"
      }
    },
    {
      "cell_type": "code",
      "source": [
        "# import libraries\n",
        "import zipfile\n",
        "import pandas as pd"
      ],
      "metadata": {
        "id": "woedFXgNLUXq"
      },
      "execution_count": 17,
      "outputs": []
    },
    {
      "cell_type": "code",
      "source": [
        "# download dataset in colab env\n",
        "!wget https://archive.ics.uci.edu/static/public/607/synchronous+machine+data+set.zip -O data.zip"
      ],
      "metadata": {
        "colab": {
          "base_uri": "https://localhost:8080/"
        },
        "id": "XX30dqNGLsgA",
        "outputId": "b4f400af-490f-4856-f6f0-dfdad4738844"
      },
      "execution_count": 18,
      "outputs": [
        {
          "output_type": "stream",
          "name": "stdout",
          "text": [
            "--2023-12-27 07:46:21--  https://archive.ics.uci.edu/static/public/607/synchronous+machine+data+set.zip\n",
            "Resolving archive.ics.uci.edu (archive.ics.uci.edu)... 128.195.10.252\n",
            "Connecting to archive.ics.uci.edu (archive.ics.uci.edu)|128.195.10.252|:443... connected.\n",
            "HTTP request sent, awaiting response... 200 OK\n",
            "Length: unspecified\n",
            "Saving to: ‘data.zip’\n",
            "\n",
            "\rdata.zip                [<=>                 ]       0  --.-KB/s               \rdata.zip                [ <=>                ]  14.37K  --.-KB/s    in 0.02s   \n",
            "\n",
            "2023-12-27 07:46:21 (906 KB/s) - ‘data.zip’ saved [14713]\n",
            "\n"
          ]
        }
      ]
    },
    {
      "cell_type": "code",
      "source": [
        "# unzip data\n",
        "with zipfile.ZipFile(\"data.zip\", 'r') as my_zip:\n",
        "    my_zip.extractall()\n"
      ],
      "metadata": {
        "id": "4LepQLMtLx2Y"
      },
      "execution_count": 19,
      "outputs": []
    },
    {
      "cell_type": "code",
      "source": [
        "# read csv and parse to pandas\n",
        "dataset_name = \"synchronous machine.csv\"\n",
        "data = pd.read_csv(dataset_name, delimiter=\";\", thousands=',')\n",
        "data.columns"
      ],
      "metadata": {
        "id": "icf4ZhoiL8V0",
        "colab": {
          "base_uri": "https://localhost:8080/"
        },
        "outputId": "7a13c1ec-d77a-43d2-bcec-6aac4254679e"
      },
      "execution_count": 20,
      "outputs": [
        {
          "output_type": "execute_result",
          "data": {
            "text/plain": [
              "Index(['Iy', 'PF', 'e', 'dIf', 'If'], dtype='object')"
            ]
          },
          "metadata": {},
          "execution_count": 20
        }
      ]
    },
    {
      "cell_type": "code",
      "source": [
        " # get numpy data\n",
        "numpy_data = data.values"
      ],
      "metadata": {
        "id": "dXjpEpTbCzVr"
      },
      "execution_count": 21,
      "outputs": []
    },
    {
      "cell_type": "markdown",
      "source": [
        "## Question 1"
      ],
      "metadata": {
        "id": "PQxxys_7C_B_"
      }
    },
    {
      "cell_type": "code",
      "source": [
        "# Question b: Convert the Numpy array to PyTorch tensor, original data tensor.\n",
        "original_data_tensor = torch.from_numpy(numpy_data)#.type(torch.float)\n",
        "original_data_tensor"
      ],
      "metadata": {
        "colab": {
          "base_uri": "https://localhost:8080/"
        },
        "id": "LBVzEriSC6AA",
        "outputId": "334d9e3f-8320-4196-bd2e-7c01e8a6567a"
      },
      "execution_count": 22,
      "outputs": [
        {
          "output_type": "execute_result",
          "data": {
            "text/plain": [
              "tensor([[   3,   66,   34,  383, 1563],\n",
              "        [   3,   68,   32,  372, 1552],\n",
              "        [   3,    7,    3,   36,  154],\n",
              "        ...,\n",
              "        [   6,   95,    5,   16,  134],\n",
              "        [   6,   97,    3,   16,  134],\n",
              "        [   6,   99,    1,   16,  134]])"
            ]
          },
          "metadata": {},
          "execution_count": 22
        }
      ]
    },
    {
      "cell_type": "markdown",
      "source": [
        "## Question 2 : Art of 'Tensor Manipulation'"
      ],
      "metadata": {
        "id": "YkTOvMgyDzy_"
      }
    },
    {
      "cell_type": "code",
      "source": [
        "# Question a: print the size of the dataset\n",
        "print(f\"The size of the dataset is {original_data_tensor.size()}\")"
      ],
      "metadata": {
        "colab": {
          "base_uri": "https://localhost:8080/"
        },
        "id": "0Pu8vGHjC51c",
        "outputId": "dc99ac58-75d8-4bc1-9623-bb72466a3c47"
      },
      "execution_count": 23,
      "outputs": [
        {
          "output_type": "stream",
          "name": "stdout",
          "text": [
            "The size of the dataset is torch.Size([557, 5])\n"
          ]
        }
      ]
    },
    {
      "cell_type": "code",
      "source": [
        "# Question b: Create a tensor, my pi tensor of same size as original\n",
        "# data tensor containing values of 3.142 at every point and placed on\n",
        "# your GPU device. Print the first 13 rows. Print tensor device location.\n",
        "# Print tensor datatype.\n",
        "row = original_data_tensor.shape[0]\n",
        "col = original_data_tensor.shape[1]\n",
        "my_pi_tensor = torch.ones(size = (row,col), device=device) * 3.142\n",
        "print(f\"The first 13 rows: {my_pi_tensor[:13]}\")\n",
        "print(f\"The tensor device location: {my_pi_tensor.device}\")\n",
        "print(f\"The tensor type is: {my_pi_tensor.dtype}\")"
      ],
      "metadata": {
        "colab": {
          "base_uri": "https://localhost:8080/"
        },
        "id": "QWAO15o0C5ql",
        "outputId": "7cc4069f-3aab-4a36-8220-52401a976197"
      },
      "execution_count": 24,
      "outputs": [
        {
          "output_type": "stream",
          "name": "stdout",
          "text": [
            "The first 13 rows: tensor([[3.1420, 3.1420, 3.1420, 3.1420, 3.1420],\n",
            "        [3.1420, 3.1420, 3.1420, 3.1420, 3.1420],\n",
            "        [3.1420, 3.1420, 3.1420, 3.1420, 3.1420],\n",
            "        [3.1420, 3.1420, 3.1420, 3.1420, 3.1420],\n",
            "        [3.1420, 3.1420, 3.1420, 3.1420, 3.1420],\n",
            "        [3.1420, 3.1420, 3.1420, 3.1420, 3.1420],\n",
            "        [3.1420, 3.1420, 3.1420, 3.1420, 3.1420],\n",
            "        [3.1420, 3.1420, 3.1420, 3.1420, 3.1420],\n",
            "        [3.1420, 3.1420, 3.1420, 3.1420, 3.1420],\n",
            "        [3.1420, 3.1420, 3.1420, 3.1420, 3.1420],\n",
            "        [3.1420, 3.1420, 3.1420, 3.1420, 3.1420],\n",
            "        [3.1420, 3.1420, 3.1420, 3.1420, 3.1420],\n",
            "        [3.1420, 3.1420, 3.1420, 3.1420, 3.1420]])\n",
            "The tensor device location: cpu\n",
            "The tensor type is: torch.float32\n"
          ]
        }
      ]
    },
    {
      "cell_type": "code",
      "source": [
        "# Question c: Print the fifth-root of the sum of all values in\n",
        "# my pi tensor.\n",
        "# fifth-root can be represented as number ** (0.2)\n",
        "sum_of_values = torch.sum(my_pi_tensor).item() ** 0.2\n",
        "print(f\"The fifthe-root of the sum of all values is: {sum_of_values:.3f}\")"
      ],
      "metadata": {
        "colab": {
          "base_uri": "https://localhost:8080/"
        },
        "id": "V315JmbJLpa8",
        "outputId": "31417549-f3f1-48b5-9075-3d98d3b2700a"
      },
      "execution_count": 25,
      "outputs": [
        {
          "output_type": "stream",
          "name": "stdout",
          "text": [
            "The fifthe-root of the sum of all values is: 6.143\n"
          ]
        }
      ]
    },
    {
      "cell_type": "code",
      "source": [
        "# Question d: Create a new tensor, my data tensor using the first and\n",
        "# last 100 rows from the original data tensor. Print size of my\n",
        "# data tensor [Expect a size of 200 rows].\n",
        "first_hundred = original_data_tensor[:100]\n",
        "print(len(first_hundred))\n",
        "last_hundred = original_data_tensor[457:]\n",
        "print(len(last_hundred))\n",
        "my_data_tensor = torch.cat([first_hundred, last_hundred], dim =0)\n",
        "print(my_data_tensor.shape)\n",
        "my_data_tensor[:5]"
      ],
      "metadata": {
        "colab": {
          "base_uri": "https://localhost:8080/"
        },
        "id": "K1ssoD0ZLpIp",
        "outputId": "bf870e37-1921-43cd-d835-838162303bba"
      },
      "execution_count": 26,
      "outputs": [
        {
          "output_type": "stream",
          "name": "stdout",
          "text": [
            "100\n",
            "100\n",
            "torch.Size([200, 5])\n"
          ]
        },
        {
          "output_type": "execute_result",
          "data": {
            "text/plain": [
              "tensor([[   3,   66,   34,  383, 1563],\n",
              "        [   3,   68,   32,  372, 1552],\n",
              "        [   3,    7,    3,   36,  154],\n",
              "        [   3,   72,   28,  338, 1518],\n",
              "        [   3,   74,   26,  317, 1497]])"
            ]
          },
          "metadata": {},
          "execution_count": 26
        }
      ]
    },
    {
      "cell_type": "code",
      "source": [
        "# Question e: Create two 1-D tensors, features and target from my data\n",
        "# tensor. The feature is dIf (Changing of excitation current of\n",
        "# synchronous machine) I) column and target is If (Excitation current\n",
        "# of synchronous machine).\n",
        "\n",
        "x = my_data_tensor[:,3].unsqueeze(dim=1)\n",
        "y = my_data_tensor[:,4].unsqueeze(dim=1)\n",
        "len(x), len(y)"
      ],
      "metadata": {
        "colab": {
          "base_uri": "https://localhost:8080/"
        },
        "id": "cspzNka1Lo19",
        "outputId": "0d04a78d-3545-4a06-885d-a3257a0fa9ca"
      },
      "execution_count": 27,
      "outputs": [
        {
          "output_type": "execute_result",
          "data": {
            "text/plain": [
              "(200, 200)"
            ]
          },
          "metadata": {},
          "execution_count": 27
        }
      ]
    },
    {
      "cell_type": "code",
      "source": [
        "# Question f: Split your data into training and test data of ratio 75:25 respectively\n",
        "train_size = int(0.75 * len(x))\n",
        "x_train, y_train = x[:train_size].type(torch.float).to(device), y[:train_size].type(torch.float).to(device)\n",
        "x_test, y_test = x[train_size:].type(torch.float).to(device), y[train_size:].type(torch.float).to(device)\n",
        "\n",
        "#len(x_train), len(y_train), len(x_test), len(y_test)\n",
        "x_train.dtype, y_train.dtype, x_test.dtype, y_test.dtype"
      ],
      "metadata": {
        "colab": {
          "base_uri": "https://localhost:8080/"
        },
        "id": "LGRcYwrc_ZJB",
        "outputId": "8ecfc054-2aac-427f-dee8-26d74957f0ac"
      },
      "execution_count": 28,
      "outputs": [
        {
          "output_type": "execute_result",
          "data": {
            "text/plain": [
              "(torch.float32, torch.float32, torch.float32, torch.float32)"
            ]
          },
          "metadata": {},
          "execution_count": 28
        }
      ]
    },
    {
      "cell_type": "markdown",
      "source": [
        "# Part 2 Pytorch Workflow Fundamentals"
      ],
      "metadata": {
        "id": "Nt3iNFwCdFRq"
      }
    },
    {
      "cell_type": "markdown",
      "source": [
        "## Question 3: Define your Linear model structure. You can use existing model.\n"
      ],
      "metadata": {
        "id": "2VK_YQsRdS2T"
      }
    },
    {
      "cell_type": "code",
      "source": [
        "# model\n",
        "class AdvancedAssignmentModel(nn.Module):\n",
        "    def __init__(self):\n",
        "        super().__init__()\n",
        "\n",
        "\n",
        "        self.layer_1 = nn.Linear(in_features=1,\n",
        "                                 out_features=8)\n",
        "\n",
        "        self.layer_2 = nn.Linear(in_features=8,\n",
        "                                 out_features=1)\n",
        "    def forward(self, x):\n",
        "        return self.layer_2(self.layer_1(x))"
      ],
      "metadata": {
        "id": "YeT0mbxJAaBa"
      },
      "execution_count": 29,
      "outputs": []
    },
    {
      "cell_type": "code",
      "source": [
        "# initialize model\n",
        "torch.manual_seed(42)\n",
        "model_Assig = AdvancedAssignmentModel().to(device)\n",
        "list(model_Assig.parameters())"
      ],
      "metadata": {
        "colab": {
          "base_uri": "https://localhost:8080/"
        },
        "id": "MF97ntAiBifL",
        "outputId": "cdc8e864-8b56-4315-cc76-d4e9b299c441"
      },
      "execution_count": 30,
      "outputs": [
        {
          "output_type": "execute_result",
          "data": {
            "text/plain": [
              "[Parameter containing:\n",
              " tensor([[ 0.7645],\n",
              "         [ 0.8300],\n",
              "         [-0.2343],\n",
              "         [ 0.9186],\n",
              "         [-0.2191],\n",
              "         [ 0.2018],\n",
              "         [-0.4869],\n",
              "         [ 0.5873]], requires_grad=True),\n",
              " Parameter containing:\n",
              " tensor([ 0.8815, -0.7336,  0.8692,  0.1872,  0.7388,  0.1354,  0.4822, -0.1412],\n",
              "        requires_grad=True),\n",
              " Parameter containing:\n",
              " tensor([[ 0.2725,  0.0523, -0.1651,  0.0901, -0.1629, -0.0415, -0.1436,  0.2345]],\n",
              "        requires_grad=True),\n",
              " Parameter containing:\n",
              " tensor([-0.2791], requires_grad=True)]"
            ]
          },
          "metadata": {},
          "execution_count": 30
        }
      ]
    },
    {
      "cell_type": "code",
      "source": [
        "model_Assig.state_dict()"
      ],
      "metadata": {
        "colab": {
          "base_uri": "https://localhost:8080/"
        },
        "id": "_sQg-du6egYO",
        "outputId": "07f859ec-713b-4c3a-e72e-0151004861a8"
      },
      "execution_count": 31,
      "outputs": [
        {
          "output_type": "execute_result",
          "data": {
            "text/plain": [
              "OrderedDict([('layer_1.weight',\n",
              "              tensor([[ 0.7645],\n",
              "                      [ 0.8300],\n",
              "                      [-0.2343],\n",
              "                      [ 0.9186],\n",
              "                      [-0.2191],\n",
              "                      [ 0.2018],\n",
              "                      [-0.4869],\n",
              "                      [ 0.5873]])),\n",
              "             ('layer_1.bias',\n",
              "              tensor([ 0.8815, -0.7336,  0.8692,  0.1872,  0.7388,  0.1354,  0.4822, -0.1412])),\n",
              "             ('layer_2.weight',\n",
              "              tensor([[ 0.2725,  0.0523, -0.1651,  0.0901, -0.1629, -0.0415, -0.1436,  0.2345]])),\n",
              "             ('layer_2.bias', tensor([-0.2791]))])"
            ]
          },
          "metadata": {},
          "execution_count": 31
        }
      ]
    },
    {
      "cell_type": "code",
      "source": [
        "# loss and optimizer\n",
        "loss_fn = nn.L1Loss()\n",
        "\n",
        "optimizer = torch.optim.SGD(model_Assig.parameters(), lr = 0.001)"
      ],
      "metadata": {
        "id": "tDnb2m1Xevkn"
      },
      "execution_count": 32,
      "outputs": []
    },
    {
      "cell_type": "markdown",
      "source": [
        "### Question 4: Train model for any number of epochs. Generate 1 plot of Loss against Epoch during model training and testing. Choose any set of hyperparameters for model training."
      ],
      "metadata": {
        "id": "SGFAgk5Kfixv"
      }
    },
    {
      "cell_type": "code",
      "source": [
        "torch.manual_seed(42)\n",
        "Epochs = 200\n",
        "store_train_loss = []\n",
        "store_test_loss = []\n",
        "store_epoch = []\n",
        "\n",
        "for epoch in range(Epochs):\n",
        "\n",
        "    model_Assig.train()\n",
        "\n",
        "    # fit\n",
        "    yhat = model_Assig(x_train)\n",
        "\n",
        "    # loss\n",
        "    loss = loss_fn(yhat, y_train)\n",
        "\n",
        "    optimizer.zero_grad()\n",
        "\n",
        "    # backward prop\n",
        "    loss.backward()\n",
        "\n",
        "    #optimizer\n",
        "    optimizer.step()\n",
        "\n",
        "    model_Assig.eval()\n",
        "\n",
        "    with torch.inference_mode():\n",
        "\n",
        "        yhat_test = model_Assig(x_test)\n",
        "\n",
        "        test_loss = loss_fn(yhat_test, y_test)\n",
        "\n",
        "        if epoch % 50 == 0:\n",
        "            store_train_loss.append(loss.detach().cpu().numpy())\n",
        "            store_test_loss.append(test_loss.detach().cpu().numpy())\n",
        "            store_epoch.append(epoch)\n",
        "            print(f\"Epoch {epoch}, Train loss: {loss:.2f}, Test loss: {test_loss:.2f}\")"
      ],
      "metadata": {
        "colab": {
          "base_uri": "https://localhost:8080/"
        },
        "id": "ju24lasTfOB6",
        "outputId": "d25c624f-2480-4bc6-947f-48932ad06da0"
      },
      "execution_count": 33,
      "outputs": [
        {
          "output_type": "stream",
          "name": "stdout",
          "text": [
            "Epoch 0, Train loss: 1156.99, Test loss: 859.67\n",
            "Epoch 50, Train loss: 433.92, Test loss: 429.59\n",
            "Epoch 100, Train loss: 437.01, Test loss: 430.87\n",
            "Epoch 150, Train loss: 436.22, Test loss: 429.47\n"
          ]
        }
      ]
    },
    {
      "cell_type": "code",
      "source": [
        "# Plot the loss curves\n",
        "plt.plot(store_epoch, store_train_loss, label=\"Train loss\")\n",
        "plt.plot(store_epoch, store_test_loss, label=\"Test loss\")\n",
        "plt.title(\"Training and test loss curves\")\n",
        "plt.ylabel(\"Loss\")\n",
        "plt.xlabel(\"Epochs\")\n",
        "plt.legend();"
      ],
      "metadata": {
        "colab": {
          "base_uri": "https://localhost:8080/",
          "height": 472
        },
        "id": "9qx95W5qhcpb",
        "outputId": "10368a64-0707-4e59-d72f-d75e4d44afee"
      },
      "execution_count": 34,
      "outputs": [
        {
          "output_type": "display_data",
          "data": {
            "text/plain": [
              "<Figure size 640x480 with 1 Axes>"
            ],
            "image/png": "[encoded data removed]"
          },
          "metadata": {}
        }
      ]
    },
    {
      "cell_type": "markdown",
      "source": [
        "# Question 5. Briefly comment on your results. What could be done to make the model or prediction better? (< 60 words)\n",
        "Answer:\n",
        "The model can be make better by incerasing the number of features or increase the instances size. The use of different descent method like Adam might increase the performance of the model. Also,increase the number of hidden layers increase performance.\n"
      ],
      "metadata": {
        "id": "36qaKHy2KEyU"
      }
    },
    {
      "cell_type": "code",
      "source": [],
      "metadata": {
        "id": "oI0W7j1ZitRl"
      },
      "execution_count": 34,
      "outputs": []
    }
  ],
  "metadata": {
    "language_info": {
      "name": "python"
    },
    "colab": {
      "provenance": [],
      "gpuType": "T4",
      "include_colab_link": true
    },
    "kernelspec": {
      "name": "python3",
      "display_name": "Python 3"
    },
    "accelerator": "GPU"
  },
  "nbformat": 4,
  "nbformat_minor": 0
}